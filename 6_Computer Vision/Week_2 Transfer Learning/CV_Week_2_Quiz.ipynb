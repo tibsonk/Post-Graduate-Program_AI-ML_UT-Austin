{
 "cells": [
  {
   "cell_type": "markdown",
   "metadata": {
    "id": "XLhZb18MNMmJ"
   },
   "source": [
    "# Fashion MNIST\n",
    "\n",
    "In this application, we will continue to work on the Fashion MNIST dataset and will try to figure out how are CNNs used with the image data.\n",
    "\n",
    "Note that we will create a very simple model here and will only talk about the architecture with limited features. Please feel free to add/modify the architecture as per your understanding."
   ]
  },
  {
   "cell_type": "markdown",
   "metadata": {
    "id": "93SFZcjkbfvG"
   },
   "source": [
    "### Libraries, data preprocessing, and visualizations"
   ]
  },
  {
   "cell_type": "code",
   "execution_count": 1,
   "metadata": {
    "id": "jCiWeSTwNKAY"
   },
   "outputs": [
    {
     "name": "stderr",
     "output_type": "stream",
     "text": [
      "<frozen importlib._bootstrap>:219: RuntimeWarning: scipy._lib.messagestream.MessageStream size changed, may indicate binary incompatibility. Expected 56 from C header, got 64 from PyObject\n"
     ]
    }
   ],
   "source": [
    "#Importing the required libraries\n",
    "\n",
    "import numpy as np\n",
    "import pandas as pd\n",
    "import tensorflow as tf\n",
    "from keras.layers import Conv2D, MaxPooling2D, Flatten, Dense, BatchNormalization, Dropout\n",
    "import matplotlib.pyplot as plt\n",
    "import seaborn as sns\n",
    "# Imporing the libraries as required. Note that we are using tensorflow.keras here.\n",
    "import tensorflow as tf\n",
    "# Keras Sequential Model\n",
    "from tensorflow.keras.models import Sequential\n",
    "\n",
    "# Importing all the different layers and optimizers\n",
    "from tensorflow.keras.layers import Dense, Flatten, Conv2D, MaxPooling2D"
   ]
  },
  {
   "cell_type": "markdown",
   "metadata": {
    "id": "lG1PX3bapt62"
   },
   "source": [
    "### Question-5 - Perform the above steps (in the given order) and answer the question.\n",
    "Load the data (Fashion MNIST dataset: a built-in dataset from Keras library). \n",
    "Reshape the data\n",
    "Normalize the data\n",
    "Encode the target variable\n",
    "What will be the shape of the encoded target variable (of the training set and test set)?\n",
    "\n",
    "\n",
    "1. (60000, 10), (10000, 10)\n",
    "2. (40000, 5), (10000, 5)\n",
    "3. (40000, 8), (20000, 8)\n",
    "4. (30000, 15), (30000, 10)"
   ]
  },
  {
   "cell_type": "code",
   "execution_count": 2,
   "metadata": {},
   "outputs": [],
   "source": [
    "#Load the data\n",
    "\n",
    "(X_train, y_train), (X_test,y_test) = tf.keras.datasets.fashion_mnist.load_data()"
   ]
  },
  {
   "cell_type": "code",
   "execution_count": 3,
   "metadata": {
    "id": "AB1Zuv_8vb4n"
   },
   "outputs": [],
   "source": [
    "# Reshape dataset to have a single channel\n",
    "X_train = X_train.reshape((X_train.shape[0], 28, 28, 1))\n",
    "X_test = X_test.reshape((X_test.shape[0], 28, 28, 1))"
   ]
  },
  {
   "cell_type": "code",
   "execution_count": 4,
   "metadata": {
    "id": "CKzQDhWuvd9d"
   },
   "outputs": [],
   "source": [
    "# Normalizing the image pixels\n",
    "X_train_normalized = X_train.astype('float32')/255.0\n",
    "X_test_normalized = X_test.astype('float32')/255.0"
   ]
  },
  {
   "cell_type": "code",
   "execution_count": 5,
   "metadata": {
    "id": "PaXewdGCveXg"
   },
   "outputs": [],
   "source": [
    "# encoding\n",
    "y_train_encoded = tf.keras.utils.to_categorical(y_train)\n",
    "y_test_encoded = tf.keras.utils.to_categorical(y_test)"
   ]
  },
  {
   "cell_type": "code",
   "execution_count": 6,
   "metadata": {
    "colab": {
     "base_uri": "https://localhost:8080/"
    },
    "id": "FA26nBmeuCSU",
    "outputId": "a6df0f39-04bb-4dd5-a248-61e0949b32a4"
   },
   "outputs": [
    {
     "data": {
      "text/plain": [
       "((60000, 10), (10000, 10))"
      ]
     },
     "execution_count": 6,
     "metadata": {},
     "output_type": "execute_result"
    }
   ],
   "source": [
    "y_train_encoded.shape, y_test_encoded.shape"
   ]
  },
  {
   "cell_type": "markdown",
   "metadata": {},
   "source": [
    "**Answer:** (60000, 10), (10000, 10)"
   ]
  },
  {
   "cell_type": "markdown",
   "metadata": {},
   "source": [
    "### Question-6 \n",
    "Build a sequential CNN model with the architecture given below and answer the following question.\n",
    "\n",
    "- First Conv2D - The input shape to the conv2D will be (28,28,1).\n",
    "   * Number of filters = 64, kernel size = (3,3), and activation function 'relu', padding = 'same'. \n",
    "   * MaxPooling2D - the pool size will be (2,2) and padding = 'same'\n",
    "- Second Conv2D \n",
    "   * Number of filters = 32, kernel size = (3,3), and activation function 'relu', padding='same'.\n",
    "   * MaxPooling2D - the pool size will be (2,2) and padding = 'same'\n",
    "   * Add a BatchNormalization layer\n",
    "- Third Conv2D\n",
    "   * Number of filters = 16, kernel size = (3,3), and activation function 'relu', padding='same'.\n",
    "- Flatten \n",
    "- First Dense Layer: Add a dense layer with 32 neurons and activation function 'relu'\n",
    "   * Dropout: add dropout with dropout rate = 0.25\n",
    "- Second Dense Layer: Add a dense layer with 16 neurons and activation function 'relu'\n",
    "- Output Layer: Add an output layer with 10 neurons and activation function = softmax\n",
    "Compile the model using adam optimizer, categorical_crossentropy as the loss function, and with accuracy as the metric.\n",
    "\n",
    "**Note**: Fix the random seed at 1 for random number generators.\n",
    "\n",
    "In what range do training accuracy and the test accuracy lie after training the model for 5 epochs?\n",
    "\n",
    "- `<`65% , `>`95% \n",
    "- `>`85% , `>`85% \n",
    "- `<`75%, `<`50% \n",
    "- `>`98%, `<`50% "
   ]
  },
  {
   "cell_type": "code",
   "execution_count": 7,
   "metadata": {
    "id": "cObMQWjm0sjo"
   },
   "outputs": [],
   "source": [
    "from tensorflow.keras import backend\n",
    "backend.clear_session()"
   ]
  },
  {
   "cell_type": "code",
   "execution_count": 8,
   "metadata": {
    "id": "3Y0nyHZx-Hc9"
   },
   "outputs": [],
   "source": [
    "cnn_model = Sequential()\n",
    "cnn_model.add(Conv2D(64, (3,3), activation='relu', input_shape=(28, 28, 1), padding = 'same'))\n",
    "cnn_model.add(MaxPooling2D(2,2))\n",
    "\n",
    "cnn_model.add(Conv2D(32, (3,3), activation='relu', padding = 'same'))\n",
    "cnn_model.add(MaxPooling2D(2,2))\n",
    "cnn_model.add(BatchNormalization())\n",
    "\n",
    "cnn_model.add(Conv2D(16, (3,3), activation='relu', padding = 'same'))\n",
    "cnn_model.add(Flatten())\n",
    "\n",
    "cnn_model.add(Dense(32, activation='relu'))\n",
    "cnn_model.add(Dropout(0.25))\n",
    "cnn_model.add(Dense(16, activation='relu'))\n",
    "\n",
    "cnn_model.add(Dense(10, activation='softmax'))"
   ]
  },
  {
   "cell_type": "code",
   "execution_count": 9,
   "metadata": {
    "colab": {
     "base_uri": "https://localhost:8080/"
    },
    "id": "46Ad6Lwr_cwt",
    "outputId": "41c6f937-a985-4c5e-bf83-61229aaf6f5e"
   },
   "outputs": [
    {
     "name": "stdout",
     "output_type": "stream",
     "text": [
      "Model: \"sequential\"\n",
      "_________________________________________________________________\n",
      " Layer (type)                Output Shape              Param #   \n",
      "=================================================================\n",
      " conv2d (Conv2D)             (None, 28, 28, 64)        640       \n",
      "                                                                 \n",
      " max_pooling2d (MaxPooling2D  (None, 14, 14, 64)       0         \n",
      " )                                                               \n",
      "                                                                 \n",
      " conv2d_1 (Conv2D)           (None, 14, 14, 32)        18464     \n",
      "                                                                 \n",
      " max_pooling2d_1 (MaxPooling  (None, 7, 7, 32)         0         \n",
      " 2D)                                                             \n",
      "                                                                 \n",
      " batch_normalization (BatchN  (None, 7, 7, 32)         128       \n",
      " ormalization)                                                   \n",
      "                                                                 \n",
      " conv2d_2 (Conv2D)           (None, 7, 7, 16)          4624      \n",
      "                                                                 \n",
      " flatten (Flatten)           (None, 784)               0         \n",
      "                                                                 \n",
      " dense (Dense)               (None, 32)                25120     \n",
      "                                                                 \n",
      " dropout (Dropout)           (None, 32)                0         \n",
      "                                                                 \n",
      " dense_1 (Dense)             (None, 16)                528       \n",
      "                                                                 \n",
      " dense_2 (Dense)             (None, 10)                170       \n",
      "                                                                 \n",
      "=================================================================\n",
      "Total params: 49,674\n",
      "Trainable params: 49,610\n",
      "Non-trainable params: 64\n",
      "_________________________________________________________________\n"
     ]
    }
   ],
   "source": [
    "cnn_model.compile(optimizer='adam', loss=\"categorical_crossentropy\", metrics=[\"accuracy\"])\n",
    "cnn_model.summary()"
   ]
  },
  {
   "cell_type": "code",
   "execution_count": 10,
   "metadata": {
    "colab": {
     "base_uri": "https://localhost:8080/"
    },
    "id": "i8lOXq6D_kWJ",
    "outputId": "c64f075d-3fd6-4377-9df2-564711458035"
   },
   "outputs": [
    {
     "name": "stdout",
     "output_type": "stream",
     "text": [
      "Epoch 1/5\n",
      "1875/1875 [==============================] - 59s 31ms/step - loss: 0.5560 - accuracy: 0.8011\n",
      "Epoch 2/5\n",
      "1875/1875 [==============================] - 56s 30ms/step - loss: 0.3574 - accuracy: 0.8741\n",
      "Epoch 3/5\n",
      "1875/1875 [==============================] - 57s 31ms/step - loss: 0.3070 - accuracy: 0.8914\n",
      "Epoch 4/5\n",
      "1875/1875 [==============================] - 57s 30ms/step - loss: 0.2798 - accuracy: 0.9011\n",
      "Epoch 5/5\n",
      "1875/1875 [==============================] - 55s 29ms/step - loss: 0.2573 - accuracy: 0.9070\n"
     ]
    },
    {
     "data": {
      "text/plain": [
       "<keras.callbacks.History at 0x1c141401340>"
      ]
     },
     "execution_count": 10,
     "metadata": {},
     "output_type": "execute_result"
    }
   ],
   "source": [
    "cnn_model.fit(X_train_normalized, y_train_encoded, epochs = 5)"
   ]
  },
  {
   "cell_type": "code",
   "execution_count": 11,
   "metadata": {
    "colab": {
     "base_uri": "https://localhost:8080/"
    },
    "id": "VVk5VZ8-_u9H",
    "outputId": "9cc0b1bf-1da2-4a12-e57e-f410bf980f4d"
   },
   "outputs": [
    {
     "name": "stdout",
     "output_type": "stream",
     "text": [
      "313/313 [==============================] - 3s 10ms/step - loss: 0.2847 - accuracy: 0.8973 0s\n"
     ]
    },
    {
     "data": {
      "text/plain": [
       "[0.28471311926841736, 0.8973000049591064]"
      ]
     },
     "execution_count": 11,
     "metadata": {},
     "output_type": "execute_result"
    }
   ],
   "source": [
    "cnn_model.evaluate(X_test_normalized, y_test_encoded)"
   ]
  },
  {
   "cell_type": "markdown",
   "metadata": {},
   "source": [
    "**Answer:** `>`85% , `>`85% "
   ]
  },
  {
   "cell_type": "markdown",
   "metadata": {
    "id": "MKIxj4D_Vc6i"
   },
   "source": [
    "### Question-7\n",
    "What is the total number of parameters(including both trainable and non-trainable) for the model built in question-6?\n",
    "- 49674 \n",
    "- 46574 \n",
    "- 49610 \n",
    "- 42254 "
   ]
  },
  {
   "attachments": {
    "image.png": {
     "image/png": "[encoded data removed]"
    }
   },
   "cell_type": "markdown",
   "metadata": {},
   "source": [
    "![image.png](attachment:image.png)"
   ]
  },
  {
   "cell_type": "markdown",
   "metadata": {},
   "source": [
    "**Answer:**49674"
   ]
  },
  {
   "cell_type": "markdown",
   "metadata": {
    "id": "J3nsKJVv_N87"
   },
   "source": [
    "### Question-9 \n",
    "Build a CNN model with transfer learning with the following architecture as shown in the below image and answer the following question.\n",
    "\n",
    "- Build a VGG16 Model with weights='imagenet' and include_top=False with input_shape=(224,224,3)\n",
    "\n",
    "- Set the VGG16 trainable layers=False\n",
    "\n",
    "- Build a sequential model over VGG16 and flatten the output of VGG16\n",
    "\n",
    "- Dense_1 Layer: neurons=32 and activation='relu'\n",
    "\n",
    "- Dense_2 Layer: neurons=16 and activation='relu'\n",
    "\n",
    "- Output Layer: add an output layer with 10 neurons and activation as softmax\n",
    "\n",
    "Compile the model using adam optimizer, categorical_crossentropy as the loss function.\n",
    "\n",
    "**Note**: Fix the random seed at 1 for random number generators.\n",
    "\n",
    "What will be the number of parameters in the first dense layer with 32 neurons (present after the flattened layer)?\n",
    "\n",
    "- 802644 \n",
    "- 802848 \n",
    "- 65324 \n",
    "- 48223 "
   ]
  },
  {
   "cell_type": "code",
   "execution_count": 12,
   "metadata": {
    "id": "Je-OeoF6Mo2z"
   },
   "outputs": [],
   "source": [
    "from tensorflow.keras import backend\n",
    "backend.clear_session()"
   ]
  },
  {
   "cell_type": "code",
   "execution_count": 13,
   "metadata": {
    "colab": {
     "base_uri": "https://localhost:8080/"
    },
    "id": "xwQd4fatL-iF",
    "outputId": "83687fe9-7712-4913-9e42-2459881c182f"
   },
   "outputs": [],
   "source": [
    "from tensorflow.keras.applications.vgg16 import VGG16\n",
    "vgg_model = VGG16(weights='imagenet', include_top = False, input_shape = (224,224,3))\n",
    "# vgg_model.summary()"
   ]
  },
  {
   "cell_type": "code",
   "execution_count": 14,
   "metadata": {
    "id": "RsFDrnYMMJH9"
   },
   "outputs": [],
   "source": [
    "# Making all the layers of the VGG model non-trainable. i.e. freezing them\n",
    "for layer in vgg_model.layers:\n",
    "    layer.trainable = False"
   ]
  },
  {
   "cell_type": "code",
   "execution_count": 15,
   "metadata": {
    "id": "pQxvtdONMN2q"
   },
   "outputs": [],
   "source": [
    "new_model = Sequential()\n",
    "\n",
    "# Adding the convolutional part of the VGG16 model from above\n",
    "new_model.add(vgg_model)\n",
    "\n",
    "# Flattening the output of the VGG16 model because it is from a convolutional layer\n",
    "new_model.add(Flatten())\n",
    "\n",
    "# Adding a dense output layer\n",
    "new_model.add(Dense(32, activation='relu'))\n",
    "new_model.add(Dense(16, activation='relu'))\n",
    "new_model.add(Dense(10, activation='softmax'))"
   ]
  },
  {
   "cell_type": "code",
   "execution_count": 16,
   "metadata": {
    "colab": {
     "base_uri": "https://localhost:8080/"
    },
    "id": "0MLvXunhMN6A",
    "outputId": "791c2584-9b4a-479b-9439-8982d897ed72"
   },
   "outputs": [
    {
     "name": "stdout",
     "output_type": "stream",
     "text": [
      "Model: \"sequential\"\n",
      "_________________________________________________________________\n",
      " Layer (type)                Output Shape              Param #   \n",
      "=================================================================\n",
      " vgg16 (Functional)          (None, 7, 7, 512)         14714688  \n",
      "                                                                 \n",
      " flatten (Flatten)           (None, 25088)             0         \n",
      "                                                                 \n",
      " dense (Dense)               (None, 32)                802848    \n",
      "                                                                 \n",
      " dense_1 (Dense)             (None, 16)                528       \n",
      "                                                                 \n",
      " dense_2 (Dense)             (None, 10)                170       \n",
      "                                                                 \n",
      "=================================================================\n",
      "Total params: 15,518,234\n",
      "Trainable params: 803,546\n",
      "Non-trainable params: 14,714,688\n",
      "_________________________________________________________________\n"
     ]
    }
   ],
   "source": [
    "new_model.compile(optimizer='adam', loss='categorical_crossentropy', metrics=['accuracy'])\n",
    "new_model.summary()"
   ]
  },
  {
   "cell_type": "markdown",
   "metadata": {
    "id": "bgN56PAMUJBT"
   },
   "source": [
    "**Answer:** 802848"
   ]
  },
  {
   "cell_type": "markdown",
   "metadata": {
    "id": "5sj5Sj3fUJRz"
   },
   "source": [
    "### Question-10\n",
    "For the model built in Question-9, add 1 more hidden layer with 16 neurons before the output softmax layer, activation function as ReLU, to answer the following question.\n",
    "\n",
    "What is the total number of trainable parameters of this model?\n",
    "\n",
    "- 600200 \n",
    "- 800000 \n",
    "- 803818 \n",
    "- 500214 "
   ]
  },
  {
   "cell_type": "code",
   "execution_count": 17,
   "metadata": {
    "id": "f2e8nTmBNveT"
   },
   "outputs": [],
   "source": [
    "from tensorflow.keras import backend\n",
    "backend.clear_session()"
   ]
  },
  {
   "cell_type": "code",
   "execution_count": 18,
   "metadata": {
    "colab": {
     "base_uri": "https://localhost:8080/"
    },
    "id": "X_9lBY2yUl-P",
    "outputId": "c3c76b32-f99f-4a90-adf2-a7c25dd80a15"
   },
   "outputs": [
    {
     "name": "stdout",
     "output_type": "stream",
     "text": [
      "Model: \"sequential\"\n",
      "_________________________________________________________________\n",
      " Layer (type)                Output Shape              Param #   \n",
      "=================================================================\n",
      " vgg16 (Functional)          (None, 7, 7, 512)         14714688  \n",
      "                                                                 \n",
      " flatten (Flatten)           (None, 25088)             0         \n",
      "                                                                 \n",
      " dense (Dense)               (None, 32)                802848    \n",
      "                                                                 \n",
      " dense_1 (Dense)             (None, 16)                528       \n",
      "                                                                 \n",
      " dense_2 (Dense)             (None, 16)                272       \n",
      "                                                                 \n",
      " dense_3 (Dense)             (None, 10)                170       \n",
      "                                                                 \n",
      "=================================================================\n",
      "Total params: 15,518,506\n",
      "Trainable params: 803,818\n",
      "Non-trainable params: 14,714,688\n",
      "_________________________________________________________________\n"
     ]
    }
   ],
   "source": [
    "from tensorflow.keras.applications.vgg16 import VGG16\n",
    "vgg_model = VGG16(weights='imagenet', include_top = False, input_shape = (224,224,3))\n",
    "# vgg_model.summary()\n",
    "# Making all the layers of the VGG model non-trainable. i.e. freezing them\n",
    "for layer in vgg_model.layers:\n",
    "    layer.trainable = False\n",
    "new_model1 = Sequential()\n",
    "\n",
    "# Adding the convolutional part of the VGG16 model from above\n",
    "new_model1.add(vgg_model)\n",
    "\n",
    "# Flattening the output of the VGG16 model because it is from a convolutional layer\n",
    "new_model1.add(Flatten())\n",
    "\n",
    "# Adding a dense output layer\n",
    "new_model1.add(Dense(32, activation='relu'))\n",
    "new_model1.add(Dense(16, activation='relu'))\n",
    "new_model1.add(Dense(16, activation='relu'))\n",
    "new_model1.add(Dense(10, activation='softmax'))\n",
    "new_model1.compile(optimizer='adam', loss='categorical_crossentropy', metrics=['accuracy'])\n",
    "new_model1.summary()"
   ]
  },
  {
   "cell_type": "markdown",
   "metadata": {},
   "source": [
    "**Answer:** 803818"
   ]
  }
 ],
 "metadata": {
  "accelerator": "GPU",
  "colab": {
   "collapsed_sections": [],
   "name": "CV-Week 2 Quiz.ipynb",
   "provenance": []
  },
  "kernelspec": {
   "display_name": "Python 3",
   "language": "python",
   "name": "python3"
  },
  "language_info": {
   "codemirror_mode": {
    "name": "ipython",
    "version": 3
   },
   "file_extension": ".py",
   "mimetype": "text/x-python",
   "name": "python",
   "nbconvert_exporter": "python",
   "pygments_lexer": "ipython3",
   "version": "3.8.8"
  }
 },
 "nbformat": 4,
 "nbformat_minor": 1
}
