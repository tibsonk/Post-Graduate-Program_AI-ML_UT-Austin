{
  "nbformat": 4,
  "nbformat_minor": 0,
  "metadata": {
    "colab": {
      "name": "Week_1_Quiz_Intro_to_CV.ipynb",
      "provenance": [],
      "collapsed_sections": []
    },
    "kernelspec": {
      "name": "python3",
      "display_name": "Python 3"
    },
    "language_info": {
      "name": "python"
    }
  },
  "cells": [
    {
      "cell_type": "markdown",
      "source": [
        "**Question 7:** *Load the Fashion MNIST dataset from the Keras library by using the following code and answer the question.*\n",
        "\n",
        "\n",
        "```\n",
        "import tensorflow as tf\n",
        "tf.keras.datasets.fashion_mnist.load_data()\n",
        "\n",
        "```\n",
        "\n",
        "\n",
        "**Note:** The dataset needs to be stored in the training and test sets.\n",
        "\n",
        "What is the shape of the training set and how many unique values are present in the target variable?"
      ],
      "metadata": {
        "id": "FMmb9VZcbghe"
      }
    },
    {
      "cell_type": "code",
      "source": [
        "import tensorflow as tf\n",
        "tf.keras.datasets.fashion_mnist.load_data()\n",
        "\n",
        "#Load the data\n",
        "X_train.shape, y_train.shape, X_test.shape, y_test.shape\n",
        "(X_train, y_train), (X_test,y_test) = tf.keras.datasets.fashion_mnist.load_data()\n",
        "\n",
        "#checking the shape\n",
        "np.unique(y_train)\n"
      ],
      "metadata": {
        "id": "K2TP5KvAibYe"
      },
      "execution_count": null,
      "outputs": []
    },
    {
      "cell_type": "markdown",
      "source": [
        "**Question 8:** Some important steps to deal with image-based datasets are -\n",
        "\n",
        "**Reshaping the data**; Hint: For grayscale images number of channels = 1 <br>\n",
        "**Normalizing the data**; Hint: The values of pixels range from 0-255.<br>\n",
        "**Encoding the target variable**; Hint: tf.keras.utils.to_categorical method is used for encoding<br>\n",
        "Perform the above steps (in the given order) and answer the following question.\n",
        "\n",
        "What will be the shape of the encoded target variable (of the training set)?"
      ],
      "metadata": {
        "id": "5yTJe6cJbxkH"
      }
    },
    {
      "cell_type": "code",
      "source": [
        "# Reshape dataset to have a single channel\n",
        "X_train = X_train.reshape((X_train.shape[0], 28, 28, 1))\n",
        "X_test = X_test.reshape((X_test.shape[0], 28, 28, 1))"
      ],
      "metadata": {
        "id": "A-OqFVBiD2zn"
      },
      "execution_count": null,
      "outputs": []
    },
    {
      "cell_type": "code",
      "source": [
        "# Normalizing the image pixels\n",
        "X_train_normalized = X_train.astype('float32')/255.0\n",
        "X_test_normalized = X_test.astype('float32')/255.0"
      ],
      "metadata": {
        "id": "CsoL98pmD7YT"
      },
      "execution_count": null,
      "outputs": []
    },
    {
      "cell_type": "code",
      "source": [
        "# encoding\n",
        "y_train_encoded = tf.keras.utils.to_categorical(y_train)\n",
        "y_test_encoded = tf.keras.utils.to_categorical(y_test)"
      ],
      "metadata": {
        "id": "ZIu8ClR9D9bQ"
      },
      "execution_count": null,
      "outputs": []
    },
    {
      "cell_type": "code",
      "source": [
        "y_train_encoded.shape"
      ],
      "metadata": {
        "id": "SAPdPQ4SD_do"
      },
      "execution_count": null,
      "outputs": []
    },
    {
      "cell_type": "markdown",
      "source": [
        "**Question 10:** *Build a sequential CNN model with the following architecture and answer the following question:*\n",
        "\n",
        "**Conv2D** - The input shape to the conv2D will be (28,28,1), number of **filters** = 64, kernel size = (3,3), and activation function 'relu' <br>\n",
        "**MaxPooling2D** - the pool size will be (2,2) and padding = 'same' <br>\n",
        "**Flatten** - It will be followed by a Flatten layer. <br> <br>\n",
        "**Note:** Fix the random seed at 1 for random number generators. <br>\n",
        "\n",
        "What will be the number of parameters in the conv2D layer?"
      ],
      "metadata": {
        "id": "hPye8f4qb-lC"
      }
    },
    {
      "cell_type": "code",
      "source": [
        "# Importing all the different layers and optimizers\n",
        "from tensorflow.keras.layers import Dense, Flatten, Conv2D, MaxPooling2D\n",
        "# Imporing the libraries as required. Note that we are using tensorflow.keras here.\n",
        "import tensorflow as tf\n",
        "# Keras Sequential Model\n",
        "from tensorflow.keras.models import Sequential\n",
        "model = Sequential()\n",
        "model.add(Conv2D(64, (3, 3), activation='relu', padding=\"same\", input_shape=(28, 28, 1)))\n",
        "model.add(MaxPooling2D((2, 2), padding = 'same'))\n",
        "model.add(Flatten())"
      ],
      "metadata": {
        "id": "UI3DGJVijYh9"
      },
      "execution_count": null,
      "outputs": []
    },
    {
      "cell_type": "code",
      "source": [
        "model.summary()"
      ],
      "metadata": {
        "id": "lfMEtfwqEcNR"
      },
      "execution_count": null,
      "outputs": []
    },
    {
      "cell_type": "markdown",
      "source": [
        "**Question 12:** For the model built in Question-10, add 1 hidden layer with 100 neurons, activation function as ReLU, and an output layer with 10 nodes and activation 'softmax' to answer the following question.\n",
        "\n",
        "What is the total number of trainable parameters of the model?"
      ],
      "metadata": {
        "id": "9ynGSbmadBmM"
      }
    },
    {
      "cell_type": "code",
      "source": [
        "# adding hidden layer\n",
        "model.add(Dense(100, activation='relu'))\n",
        "# adding the output layer\n",
        "model.add(Dense(10, activation='softmax'))\n",
        "model.summary()"
      ],
      "metadata": {
        "id": "vkXZyQ-Lji6j"
      },
      "execution_count": null,
      "outputs": []
    },
    {
      "cell_type": "markdown",
      "source": [
        "**Question 13:** Compile the model using adam optimizer, categorical_crossentropy as the loss function, and train it for 5 epochs to answer the following question.\n",
        "\n",
        "In what range does training accuracy lie?"
      ],
      "metadata": {
        "id": "w5glVPfad2Ts"
      }
    },
    {
      "cell_type": "code",
      "source": [
        "model.compile(optimizer='adam', loss=\"categorical_crossentropy\", metrics=[\"accuracy\"])\n",
        "model.fit(X_train_normalized, y_train_encoded, epochs = 5)"
      ],
      "metadata": {
        "id": "bkYd2Nmpjx5Y"
      },
      "execution_count": null,
      "outputs": []
    },
    {
      "cell_type": "markdown",
      "source": [
        "**Question 14:** In what range does the accuracy on the test set lie?"
      ],
      "metadata": {
        "id": "eCZiqiZneZ0m"
      }
    },
    {
      "cell_type": "code",
      "source": [
        "model.evaluate(X_test_normalized, y_test_encoded)"
      ],
      "metadata": {
        "id": "8YcMzAFbFLiI"
      },
      "execution_count": null,
      "outputs": []
    }
  ]
}