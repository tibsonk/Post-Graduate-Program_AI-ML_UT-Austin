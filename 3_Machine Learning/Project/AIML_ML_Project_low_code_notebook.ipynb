{
  "cells": [
    {
      "cell_type": "markdown",
      "metadata": {
        "id": "oiAwWZfeC4Xw"
      },
      "source": [
        "## Problem Statement"
      ]
    },
    {
      "cell_type": "markdown",
      "metadata": {
        "id": "WbNiHKYEC4Xx"
      },
      "source": [
        "### Context\n",
        "\n",
        "AllLife Bank is a US bank that has a growing customer base. The majority of these customers are liability customers (depositors) with varying sizes of deposits. The number of customers who are also borrowers (asset customers) is quite small, and the bank is interested in expanding this base rapidly to bring in more loan business and in the process, earn more through the interest on loans. In particular, the management wants to explore ways of converting its liability customers to personal loan customers (while retaining them as depositors).\n",
        "\n",
        "A campaign that the bank ran last year for liability customers showed a healthy conversion rate of over 9% success. This has encouraged the retail marketing department to devise campaigns with better target marketing to increase the success ratio.\n",
        "\n",
        "You as a Data scientist at AllLife bank have to build a model that will help the marketing department to identify the potential customers who have a higher probability of purchasing the loan."
      ]
    },
    {
      "cell_type": "markdown",
      "metadata": {
        "id": "7rfozb5OC4Xx"
      },
      "source": [
        "### Objective\n",
        "To predict whether a liability customer will buy personal loans, to understand which customer attributes are most significant in driving purchases, and identify which segment of customers to target more."
      ]
    },
    {
      "cell_type": "markdown",
      "metadata": {
        "id": "6sE497MaC4Xx"
      },
      "source": [
        "### Data Dictionary\n",
        "* `ID`: Customer ID\n",
        "* `Age`: Customer’s age in completed years\n",
        "* `Experience`: #years of professional experience\n",
        "* `Income`: Annual income of the customer (in thousand dollars)\n",
        "* `ZIP Code`: Home Address ZIP code.\n",
        "* `Family`: the Family size of the customer\n",
        "* `CCAvg`: Average spending on credit cards per month (in thousand dollars)\n",
        "* `Education`: Education Level. 1: Undergrad; 2: Graduate;3: Advanced/Professional\n",
        "* `Mortgage`: Value of house mortgage if any. (in thousand dollars)\n",
        "* `Personal_Loan`: Did this customer accept the personal loan offered in the last campaign? (0: No, 1: Yes)\n",
        "* `Securities_Account`: Does the customer have securities account with the bank? (0: No, 1: Yes)\n",
        "* `CD_Account`: Does the customer have a certificate of deposit (CD) account with the bank? (0: No, 1: Yes)\n",
        "* `Online`: Do customers use internet banking facilities? (0: No, 1: Yes)\n",
        "* `CreditCard`: Does the customer use a credit card issued by any other Bank (excluding All life Bank)? (0: No, 1: Yes)"
      ]
    },
    {
      "cell_type": "markdown",
      "source": [
        "## **Please read the instructions carefully before starting the project.**"
      ],
      "metadata": {
        "id": "IRAvu4bNl-fU"
      }
    },
    {
      "cell_type": "markdown",
      "source": [
        "This is a commented Jupyter IPython Notebook file in which all the instructions and tasks to be performed are mentioned.\n",
        "* Blanks '_______' are provided in the notebook that\n",
        "needs to be filled with an appropriate code to get the correct result. With every '_______' blank, there is a comment that briefly describes what needs to be filled in the blank space.\n",
        "* Identify the task to be performed correctly, and only then proceed to write the required code.\n",
        "* Fill the code wherever asked by the commented lines like \"# write your code here\" or \"# complete the code\". Running incomplete code may throw error.\n",
        "* Please run the codes in a sequential manner from the beginning to avoid any unnecessary errors.\n",
        "* Add the results/observations (wherever mentioned) derived from the analysis in the presentation and submit the same."
      ],
      "metadata": {
        "id": "MSE_wI_CLngj"
      }
    },
    {
      "cell_type": "markdown",
      "metadata": {
        "id": "qW6gqvE1C4Xy"
      },
      "source": [
        "## Importing necessary libraries"
      ]
    },
    {
      "cell_type": "code",
      "source": [
        "# Installing the libraries with the specified version.\n",
        "!pip install numpy==1.25.2 pandas==1.5.3 matplotlib==3.7.1 seaborn==0.13.1 scikit-learn==1.2.2 sklearn-pandas==2.2.0 -q --user"
      ],
      "metadata": {
        "id": "MeW5cQ7zjY7D"
      },
      "execution_count": null,
      "outputs": []
    },
    {
      "cell_type": "markdown",
      "source": [
        "**Note**:\n",
        "\n",
        "1. After running the above cell, kindly restart the notebook kernel (for Jupyter Notebook) or runtime (for Google Colab) and run all cells sequentially from the next cell.\n",
        "\n",
        "2. On executing the above line of code, you might see a warning regarding package dependencies. This error message can be ignored as the above code ensures that all necessary libraries and their dependencies are maintained to successfully execute the code in this notebook."
      ],
      "metadata": {
        "id": "RA05PASgwTzG"
      }
    },
    {
      "cell_type": "code",
      "execution_count": null,
      "metadata": {
        "id": "90B7gkSIC4Xy"
      },
      "outputs": [],
      "source": [
        "# Libraries to help with reading and manipulating data\n",
        "import pandas as pd\n",
        "import numpy as np\n",
        "\n",
        "# libaries to help with data visualization\n",
        "import matplotlib.pyplot as plt\n",
        "import seaborn as sns\n",
        "\n",
        "# Library to split data\n",
        "from sklearn.model_selection import train_test_split\n",
        "\n",
        "# To build model for prediction\n",
        "from sklearn.tree import DecisionTreeClassifier\n",
        "from sklearn import tree\n",
        "\n",
        "# To get diferent metric scores\n",
        "from sklearn.metrics import (\n",
        "    f1_score,\n",
        "    accuracy_score,\n",
        "    recall_score,\n",
        "    precision_score,\n",
        "    confusion_matrix,\n",
        ")\n",
        "\n",
        "# to suppress unnecessary warnings\n",
        "import warnings\n",
        "warnings.filterwarnings(\"ignore\")"
      ]
    },
    {
      "cell_type": "markdown",
      "metadata": {
        "id": "yGpsy8MaC4X0"
      },
      "source": [
        "## Loading the dataset"
      ]
    },
    {
      "cell_type": "code",
      "source": [
        "# uncomment the following lines if Google Colab is being used\n",
        "# from google.colab import drive\n",
        "# drive.mount('/content/drive')"
      ],
      "metadata": {
        "id": "-5oDrwjX232z"
      },
      "execution_count": null,
      "outputs": []
    },
    {
      "cell_type": "code",
      "execution_count": null,
      "metadata": {
        "id": "cjUFF4fCC4X0"
      },
      "outputs": [],
      "source": [
        "Loan = pd.read_csv(\"_______\")   ##  Complete the code to read the data"
      ]
    },
    {
      "cell_type": "code",
      "execution_count": null,
      "metadata": {
        "id": "Vqy2F5RCC4X0"
      },
      "outputs": [],
      "source": [
        "# copying data to another variable to avoid any changes to original data\n",
        "data = Loan.copy()"
      ]
    },
    {
      "cell_type": "markdown",
      "metadata": {
        "id": "4o_swYenC4X1"
      },
      "source": [
        "## Data Overview"
      ]
    },
    {
      "cell_type": "markdown",
      "metadata": {
        "id": "Mbr6OdWEC4X1"
      },
      "source": [
        "### View the first and last 5 rows of the dataset."
      ]
    },
    {
      "cell_type": "code",
      "execution_count": null,
      "metadata": {
        "scrolled": true,
        "id": "ljao2PCdC4X1"
      },
      "outputs": [],
      "source": [
        "data._______  ##  Complete the code to view top 5 rows of the data"
      ]
    },
    {
      "cell_type": "code",
      "execution_count": null,
      "metadata": {
        "id": "bQDEtP2IC4X1"
      },
      "outputs": [],
      "source": [
        "data._______  ##  Complete the code to view last 5 rows of the data"
      ]
    },
    {
      "cell_type": "markdown",
      "metadata": {
        "id": "dEuSu6e4hU2e"
      },
      "source": [
        "### Understand the shape of the dataset."
      ]
    },
    {
      "cell_type": "code",
      "execution_count": null,
      "metadata": {
        "id": "emSK7lFkC4X1"
      },
      "outputs": [],
      "source": [
        "data._______  ## Complete the code to get the shape of the data"
      ]
    },
    {
      "cell_type": "markdown",
      "metadata": {
        "id": "mwAu-vEwhU2m"
      },
      "source": [
        "### Check the data types of the columns for the dataset"
      ]
    },
    {
      "cell_type": "code",
      "execution_count": null,
      "metadata": {
        "id": "GkyJyB4DC4X2"
      },
      "outputs": [],
      "source": [
        "data._______  ##  Complete the code to view the datatypes of the data"
      ]
    },
    {
      "cell_type": "markdown",
      "source": [
        "### Checking the Statistical Summary"
      ],
      "metadata": {
        "id": "36aCBpXp2ikK"
      }
    },
    {
      "cell_type": "code",
      "execution_count": null,
      "metadata": {
        "id": "rR7Jx58WC4X2"
      },
      "outputs": [],
      "source": [
        "data._______.T  ## Complete the code to print the statistical summary of the data"
      ]
    },
    {
      "cell_type": "markdown",
      "metadata": {
        "id": "7KMCPrWrC4X2"
      },
      "source": [
        "### Dropping columns"
      ]
    },
    {
      "cell_type": "code",
      "execution_count": null,
      "metadata": {
        "id": "MTlqSUYEC4X2"
      },
      "outputs": [],
      "source": [
        "data = data.drop([_______], axis=1)  ## Complete the code to drop a column from the dataframe"
      ]
    },
    {
      "cell_type": "markdown",
      "metadata": {
        "id": "Vsyw2VXjC4X3"
      },
      "source": [
        "## Data Preprocessing"
      ]
    },
    {
      "cell_type": "markdown",
      "source": [
        "### Checking for Anomalous Values"
      ],
      "metadata": {
        "id": "_uzwbCno3DN2"
      }
    },
    {
      "cell_type": "code",
      "source": [
        "data[\"Experience\"].unique()"
      ],
      "metadata": {
        "id": "PJxY16eI4Sba"
      },
      "execution_count": null,
      "outputs": []
    },
    {
      "cell_type": "code",
      "source": [
        "# checking for experience <0\n",
        "data[data[\"Experience\"] < 0][\"Experience\"].unique()"
      ],
      "metadata": {
        "id": "LyEf_LdgWhWT"
      },
      "execution_count": null,
      "outputs": []
    },
    {
      "cell_type": "code",
      "source": [
        "# Correcting the experience values\n",
        "data[\"Experience\"].replace(-1, 1, inplace=True)\n",
        "data[\"Experience\"].replace(-2, 2, inplace=True)\n",
        "data[\"Experience\"].replace(-3, 3, inplace=True)"
      ],
      "metadata": {
        "id": "JBP4ypUWWjnt"
      },
      "execution_count": null,
      "outputs": []
    },
    {
      "cell_type": "code",
      "source": [
        "data[\"Education\"].unique()"
      ],
      "metadata": {
        "id": "sGmq-iHuWlBp"
      },
      "execution_count": null,
      "outputs": []
    },
    {
      "cell_type": "markdown",
      "source": [
        "### Feature Engineering"
      ],
      "metadata": {
        "id": "iJ5ll9Cg3Sog"
      }
    },
    {
      "cell_type": "code",
      "execution_count": null,
      "metadata": {
        "id": "aN8XMZIGC4X4"
      },
      "outputs": [],
      "source": [
        "# checking the number of uniques in the zip code\n",
        "data[\"ZIPCode\"].nunique()"
      ]
    },
    {
      "cell_type": "code",
      "source": [
        "data[\"ZIPCode\"] = data[\"ZIPCode\"].astype(str)\n",
        "print(\n",
        "    \"Number of unique values if we take first two digits of ZIPCode: \",\n",
        "    data[\"ZIPCode\"].str[0:2].nunique(),\n",
        ")\n",
        "data[\"ZIPCode\"] = data[\"ZIPCode\"].str[0:2]\n",
        "\n",
        "data[\"ZIPCode\"] = data[\"ZIPCode\"].astype(\"category\")"
      ],
      "metadata": {
        "id": "Pyrbm58nXNT0"
      },
      "execution_count": null,
      "outputs": []
    },
    {
      "cell_type": "code",
      "execution_count": null,
      "metadata": {
        "id": "pqXzhacuC4X4"
      },
      "outputs": [],
      "source": [
        "## Converting the data type of categorical features to 'category'\n",
        "cat_cols = [\n",
        "    \"Education\",\n",
        "    \"Personal_Loan\",\n",
        "    \"Securities_Account\",\n",
        "    \"CD_Account\",\n",
        "    \"Online\",\n",
        "    \"CreditCard\",\n",
        "    \"ZIPCode\",\n",
        "]\n",
        "data[cat_cols] = data[cat_cols].astype(\"_______\")"
      ]
    },
    {
      "cell_type": "markdown",
      "metadata": {
        "id": "kUJ_B5KxhU3D"
      },
      "source": [
        "## <a name='link2'>Exploratory Data Analysis (EDA)</a>\n"
      ]
    },
    {
      "cell_type": "markdown",
      "source": [
        "### Univariate Analysis"
      ],
      "metadata": {
        "id": "4vJzUjS9_-Jt"
      }
    },
    {
      "cell_type": "code",
      "execution_count": null,
      "metadata": {
        "id": "ef-2oS7z-yYP"
      },
      "outputs": [],
      "source": [
        "def histogram_boxplot(data, feature, figsize=(12, 7), kde=False, bins=None):\n",
        "    \"\"\"\n",
        "    Boxplot and histogram combined\n",
        "\n",
        "    data: dataframe\n",
        "    feature: dataframe column\n",
        "    figsize: size of figure (default (12,7))\n",
        "    kde: whether to show the density curve (default False)\n",
        "    bins: number of bins for histogram (default None)\n",
        "    \"\"\"\n",
        "    f2, (ax_box2, ax_hist2) = plt.subplots(\n",
        "        nrows=2,  # Number of rows of the subplot grid= 2\n",
        "        sharex=True,  # x-axis will be shared among all subplots\n",
        "        gridspec_kw={\"height_ratios\": (0.25, 0.75)},\n",
        "        figsize=figsize,\n",
        "    )  # creating the 2 subplots\n",
        "    sns.boxplot(\n",
        "        data=data, x=feature, ax=ax_box2, showmeans=True, color=\"violet\"\n",
        "    )  # boxplot will be created and a star will indicate the mean value of the column\n",
        "    sns.histplot(\n",
        "        data=data, x=feature, kde=kde, ax=ax_hist2, bins=bins, palette=\"winter\"\n",
        "    ) if bins else sns.histplot(\n",
        "        data=data, x=feature, kde=kde, ax=ax_hist2\n",
        "    )  # For histogram\n",
        "    ax_hist2.axvline(\n",
        "        data[feature].mean(), color=\"green\", linestyle=\"--\"\n",
        "    )  # Add mean to the histogram\n",
        "    ax_hist2.axvline(\n",
        "        data[feature].median(), color=\"black\", linestyle=\"-\"\n",
        "    )  # Add median to the histogram"
      ]
    },
    {
      "cell_type": "code",
      "execution_count": null,
      "metadata": {
        "id": "O72HDsfS-yYQ"
      },
      "outputs": [],
      "source": [
        "# function to create labeled barplots\n",
        "\n",
        "\n",
        "def labeled_barplot(data, feature, perc=False, n=None):\n",
        "    \"\"\"\n",
        "    Barplot with percentage at the top\n",
        "\n",
        "    data: dataframe\n",
        "    feature: dataframe column\n",
        "    perc: whether to display percentages instead of count (default is False)\n",
        "    n: displays the top n category levels (default is None, i.e., display all levels)\n",
        "    \"\"\"\n",
        "\n",
        "    total = len(data[feature])  # length of the column\n",
        "    count = data[feature].nunique()\n",
        "    if n is None:\n",
        "        plt.figure(figsize=(count + 1, 5))\n",
        "    else:\n",
        "        plt.figure(figsize=(n + 1, 5))\n",
        "\n",
        "    plt.xticks(rotation=90, fontsize=15)\n",
        "    ax = sns.countplot(\n",
        "        data=data,\n",
        "        x=feature,\n",
        "        palette=\"Paired\",\n",
        "        order=data[feature].value_counts().index[:n].sort_values(),\n",
        "    )\n",
        "\n",
        "    for p in ax.patches:\n",
        "        if perc == True:\n",
        "            label = \"{:.1f}%\".format(\n",
        "                100 * p.get_height() / total\n",
        "            )  # percentage of each class of the category\n",
        "        else:\n",
        "            label = p.get_height()  # count of each level of the category\n",
        "\n",
        "        x = p.get_x() + p.get_width() / 2  # width of the plot\n",
        "        y = p.get_height()  # height of the plot\n",
        "\n",
        "        ax.annotate(\n",
        "            label,\n",
        "            (x, y),\n",
        "            ha=\"center\",\n",
        "            va=\"center\",\n",
        "            size=12,\n",
        "            xytext=(0, 5),\n",
        "            textcoords=\"offset points\",\n",
        "        )  # annotate the percentage\n",
        "\n",
        "    plt.show()  # show the plot"
      ]
    },
    {
      "cell_type": "markdown",
      "source": [
        "#### Observations on Age"
      ],
      "metadata": {
        "id": "QjuGWeOmEGoS"
      }
    },
    {
      "cell_type": "code",
      "source": [
        "histogram_boxplot(data, \"age\")"
      ],
      "metadata": {
        "id": "LnCq2WEpDou5"
      },
      "execution_count": null,
      "outputs": []
    },
    {
      "cell_type": "markdown",
      "source": [
        "#### Observations on Experience"
      ],
      "metadata": {
        "id": "zzdrcVHaEY0t"
      }
    },
    {
      "cell_type": "code",
      "source": [
        "histogram_boxplot(_______) ## Complete the code to create histogram_boxplot for experience"
      ],
      "metadata": {
        "id": "DY3N62KZDosK"
      },
      "execution_count": null,
      "outputs": []
    },
    {
      "cell_type": "markdown",
      "source": [
        "#### Observations on Income"
      ],
      "metadata": {
        "id": "24eVdJLlEkEU"
      }
    },
    {
      "cell_type": "code",
      "source": [
        "histogram_boxplot(_______)  ## Complete the code to create histogram_boxplot for Income"
      ],
      "metadata": {
        "id": "7bZMRP1GDopX"
      },
      "execution_count": null,
      "outputs": []
    },
    {
      "cell_type": "markdown",
      "source": [
        "#### Observations on CCAvg"
      ],
      "metadata": {
        "id": "DG4dgxL_ExDR"
      }
    },
    {
      "cell_type": "code",
      "source": [
        "histogram_boxplot(_______)  ## Complete the code to create histogram_boxplot for CCAvg"
      ],
      "metadata": {
        "id": "10ElzFKwDomo"
      },
      "execution_count": null,
      "outputs": []
    },
    {
      "cell_type": "markdown",
      "source": [
        "#### Observations on Mortgage"
      ],
      "metadata": {
        "id": "a0GLlhKCE5bg"
      }
    },
    {
      "cell_type": "code",
      "source": [
        "histogram_boxplot(_______)  ## Complete the code to create histogram_boxplot for Mortgage"
      ],
      "metadata": {
        "id": "mCij70gSDoju"
      },
      "execution_count": null,
      "outputs": []
    },
    {
      "cell_type": "markdown",
      "source": [
        "#### Observations on Family"
      ],
      "metadata": {
        "id": "JzTJoVRME-fU"
      }
    },
    {
      "cell_type": "code",
      "source": [
        "labeled_barplot(data, \"Family\", perc=True)"
      ],
      "metadata": {
        "id": "1VQnJ5JRDogq"
      },
      "execution_count": null,
      "outputs": []
    },
    {
      "cell_type": "markdown",
      "source": [
        "#### Observations on Education"
      ],
      "metadata": {
        "id": "5v-RI3_hFHKR"
      }
    },
    {
      "cell_type": "code",
      "source": [
        "labeled_barplot(_______)   ## Complete the code to create labeled_barplot for Education"
      ],
      "metadata": {
        "id": "h0GPe7cnDodZ"
      },
      "execution_count": null,
      "outputs": []
    },
    {
      "cell_type": "markdown",
      "source": [
        "#### Observations on Securities_Account"
      ],
      "metadata": {
        "id": "iu38TAwRFUb5"
      }
    },
    {
      "cell_type": "code",
      "source": [
        "labeled_barplot(_______)   ## Complete the code to create labeled_barplot for Securities_Account"
      ],
      "metadata": {
        "id": "XdOetrRMFSeJ"
      },
      "execution_count": null,
      "outputs": []
    },
    {
      "cell_type": "markdown",
      "source": [
        "#### Observations on CD_Account"
      ],
      "metadata": {
        "id": "itZOMUhcFcao"
      }
    },
    {
      "cell_type": "code",
      "source": [
        "labeled_barplot(_______)   ## Complete the code to create labeled_barplot for CD_Account"
      ],
      "metadata": {
        "id": "78Ds-L7ZFSbN"
      },
      "execution_count": null,
      "outputs": []
    },
    {
      "cell_type": "markdown",
      "source": [
        "#### Observations on Online"
      ],
      "metadata": {
        "id": "BdeJ6JQFFjW7"
      }
    },
    {
      "cell_type": "code",
      "source": [
        "labeled_barplot(_______)   ## Complete the code to create labeled_barplot for Online"
      ],
      "metadata": {
        "id": "CQKSU3CHFSYa"
      },
      "execution_count": null,
      "outputs": []
    },
    {
      "cell_type": "markdown",
      "source": [
        "#### Observation on CreditCard"
      ],
      "metadata": {
        "id": "PdzxuDEaFmbu"
      }
    },
    {
      "cell_type": "code",
      "source": [
        "labeled_barplot(_______)   ## Complete the code to create labeled_barplot for CreditCard"
      ],
      "metadata": {
        "id": "xQq2aLT0FSVc"
      },
      "execution_count": null,
      "outputs": []
    },
    {
      "cell_type": "markdown",
      "source": [
        "#### Observation on ZIPCode"
      ],
      "metadata": {
        "id": "ACJO6FE1F5Rk"
      }
    },
    {
      "cell_type": "code",
      "source": [
        "labeled_barplot(_______)   ## Complete the code to create labeled_barplot for ZIPCode"
      ],
      "metadata": {
        "id": "893IZRDaF4_2"
      },
      "execution_count": null,
      "outputs": []
    },
    {
      "cell_type": "markdown",
      "source": [
        "### Bivariate Analysis"
      ],
      "metadata": {
        "id": "6ocQdtn6F8Uc"
      }
    },
    {
      "cell_type": "code",
      "source": [
        "def stacked_barplot(data, predictor, target):\n",
        "    \"\"\"\n",
        "    Print the category counts and plot a stacked bar chart\n",
        "\n",
        "    data: dataframe\n",
        "    predictor: independent variable\n",
        "    target: target variable\n",
        "    \"\"\"\n",
        "    count = data[predictor].nunique()\n",
        "    sorter = data[target].value_counts().index[-1]\n",
        "    tab1 = pd.crosstab(data[predictor], data[target], margins=True).sort_values(\n",
        "        by=sorter, ascending=False\n",
        "    )\n",
        "    print(tab1)\n",
        "    print(\"-\" * 120)\n",
        "    tab = pd.crosstab(data[predictor], data[target], normalize=\"index\").sort_values(\n",
        "        by=sorter, ascending=False\n",
        "    )\n",
        "    tab.plot(kind=\"bar\", stacked=True, figsize=(count + 5, 5))\n",
        "    plt.legend(\n",
        "        loc=\"lower left\", frameon=False,\n",
        "    )\n",
        "    plt.legend(loc=\"upper left\", bbox_to_anchor=(1, 1))\n",
        "    plt.show()"
      ],
      "metadata": {
        "id": "-6XVBRj5Q1_d"
      },
      "execution_count": null,
      "outputs": []
    },
    {
      "cell_type": "code",
      "source": [
        "### function to plot distributions wrt target\n",
        "\n",
        "\n",
        "def distribution_plot_wrt_target(data, predictor, target):\n",
        "\n",
        "    fig, axs = plt.subplots(2, 2, figsize=(12, 10))\n",
        "\n",
        "    target_uniq = data[target].unique()\n",
        "\n",
        "    axs[0, 0].set_title(\"Distribution of target for target=\" + str(target_uniq[0]))\n",
        "    sns.histplot(\n",
        "        data=data[data[target] == target_uniq[0]],\n",
        "        x=predictor,\n",
        "        kde=True,\n",
        "        ax=axs[0, 0],\n",
        "        color=\"teal\",\n",
        "        stat=\"density\",\n",
        "    )\n",
        "\n",
        "    axs[0, 1].set_title(\"Distribution of target for target=\" + str(target_uniq[1]))\n",
        "    sns.histplot(\n",
        "        data=data[data[target] == target_uniq[1]],\n",
        "        x=predictor,\n",
        "        kde=True,\n",
        "        ax=axs[0, 1],\n",
        "        color=\"orange\",\n",
        "        stat=\"density\",\n",
        "    )\n",
        "\n",
        "    axs[1, 0].set_title(\"Boxplot w.r.t target\")\n",
        "    sns.boxplot(data=data, x=target, y=predictor, ax=axs[1, 0], palette=\"gist_rainbow\")\n",
        "\n",
        "    axs[1, 1].set_title(\"Boxplot (without outliers) w.r.t target\")\n",
        "    sns.boxplot(\n",
        "        data=data,\n",
        "        x=target,\n",
        "        y=predictor,\n",
        "        ax=axs[1, 1],\n",
        "        showfliers=False,\n",
        "        palette=\"gist_rainbow\",\n",
        "    )\n",
        "\n",
        "    plt.tight_layout()\n",
        "    plt.show()"
      ],
      "metadata": {
        "id": "g5fOGMviQ21L"
      },
      "execution_count": null,
      "outputs": []
    },
    {
      "cell_type": "markdown",
      "source": [
        "#### Correlation check"
      ],
      "metadata": {
        "id": "GOXF6qiVZ1jD"
      }
    },
    {
      "cell_type": "code",
      "source": [
        "plt.figure(figsize=(15, 7))\n",
        "sns.heatmap(______.corr(numeric_only=True), annot=True, vmin=-1, vmax=1, fmt=\".2f\", cmap=\"Spectral\") # Complete the code to get the heatmap of the data\n",
        "plt.show()"
      ],
      "metadata": {
        "id": "roJ_-HU2GEeB"
      },
      "execution_count": null,
      "outputs": []
    },
    {
      "cell_type": "markdown",
      "source": [
        "#### Let's check how a customer's interest in purchasing a loan varies with their education"
      ],
      "metadata": {
        "id": "IOp9K2wEG5p0"
      }
    },
    {
      "cell_type": "code",
      "source": [
        "stacked_barplot(data, \"Education\", \"Personal_Loan\")"
      ],
      "metadata": {
        "id": "p82CWckFGEbk"
      },
      "execution_count": null,
      "outputs": []
    },
    {
      "cell_type": "markdown",
      "source": [
        "#### Personal_Loan vs Family"
      ],
      "metadata": {
        "id": "soQXBsZNG8Hc"
      }
    },
    {
      "cell_type": "code",
      "source": [
        "stacked_barplot(_______)  ## Complete the code to plot stacked barplot for Personal Loan and Family"
      ],
      "metadata": {
        "id": "w1jvdwNMGEY3"
      },
      "execution_count": null,
      "outputs": []
    },
    {
      "cell_type": "markdown",
      "source": [
        "#### Personal_Loan vs Securities_Account"
      ],
      "metadata": {
        "id": "BgOQfs9_HBej"
      }
    },
    {
      "cell_type": "code",
      "source": [
        "stacked_barplot(_______) ## Complete the code to plot stacked barplot for Personal Loan and Securities_Account"
      ],
      "metadata": {
        "id": "HVuBG7AQFSSn"
      },
      "execution_count": null,
      "outputs": []
    },
    {
      "cell_type": "markdown",
      "source": [
        "#### Personal_Loan vs CD_Account"
      ],
      "metadata": {
        "id": "WyLpV-BRHPkR"
      }
    },
    {
      "cell_type": "code",
      "source": [
        "stacked_barplot(_______) ## Complete the code to plot stacked barplot for Personal Loan and CD_Account"
      ],
      "metadata": {
        "id": "FeIX0THcHNN3"
      },
      "execution_count": null,
      "outputs": []
    },
    {
      "cell_type": "markdown",
      "source": [
        "#### Personal_Loan vs Online"
      ],
      "metadata": {
        "id": "OGv86aejHTG0"
      }
    },
    {
      "cell_type": "code",
      "source": [
        "stacked_barplot(_______) ## Complete the code to plot stacked barplot for Personal Loan and Online"
      ],
      "metadata": {
        "id": "ne8p8nukHNLO"
      },
      "execution_count": null,
      "outputs": []
    },
    {
      "cell_type": "markdown",
      "source": [
        "#### Personal_Loan vs CreditCard"
      ],
      "metadata": {
        "id": "a9nCniQgHZUu"
      }
    },
    {
      "cell_type": "code",
      "source": [
        "stacked_barplot(_______) ## Complete the code to plot stacked barplot for Personal Loan and CreditCard"
      ],
      "metadata": {
        "id": "FkE6UfOdHXUp"
      },
      "execution_count": null,
      "outputs": []
    },
    {
      "cell_type": "markdown",
      "source": [
        "#### Personal_Loan vs ZIPCode"
      ],
      "metadata": {
        "id": "0YcmISkyHc_a"
      }
    },
    {
      "cell_type": "code",
      "source": [
        "stacked_barplot(_______) ## Complete the code to plot stacked barplot for Personal Loan and ZIPCode"
      ],
      "metadata": {
        "id": "5SGyq83jHXR4"
      },
      "execution_count": null,
      "outputs": []
    },
    {
      "cell_type": "markdown",
      "source": [
        "#### Let's check how a customer's interest in purchasing a loan varies with their age"
      ],
      "metadata": {
        "id": "CO30h257HiLq"
      }
    },
    {
      "cell_type": "code",
      "source": [
        "distribution_plot_wrt_target(data, \"Age\", \"Personal_Loan\")"
      ],
      "metadata": {
        "id": "hYAGce0aHh3z"
      },
      "execution_count": null,
      "outputs": []
    },
    {
      "cell_type": "markdown",
      "source": [
        "#### Personal Loan vs Experience"
      ],
      "metadata": {
        "id": "wu6IjYeVHyEj"
      }
    },
    {
      "cell_type": "code",
      "source": [
        "distribution_plot_wrt_target(_______) ## Complete the code to plot stacked barplot for Personal Loan and Experience"
      ],
      "metadata": {
        "id": "-Hdu4YUMHNIT"
      },
      "execution_count": null,
      "outputs": []
    },
    {
      "cell_type": "markdown",
      "source": [
        "#### Personal Loan vs Income"
      ],
      "metadata": {
        "id": "Zl2-uHxAH_CB"
      }
    },
    {
      "cell_type": "code",
      "source": [
        "distribution_plot_wrt_target(_______) ## Complete the code to plot stacked barplot for Personal Loan and Income"
      ],
      "metadata": {
        "id": "ktZUooaVH9Jz"
      },
      "execution_count": null,
      "outputs": []
    },
    {
      "cell_type": "markdown",
      "source": [
        "#### Personal Loan vs CCAvg"
      ],
      "metadata": {
        "id": "kIdGE5OZIGuM"
      }
    },
    {
      "cell_type": "code",
      "source": [
        "distribution_plot_wrt_target(_______) ## Complete the code to plot stacked barplot for Personal Loan and CCAvg"
      ],
      "metadata": {
        "id": "daHESc6fH9G8"
      },
      "execution_count": null,
      "outputs": []
    },
    {
      "cell_type": "markdown",
      "source": [
        "## Data Preprocessing (contd.)"
      ],
      "metadata": {
        "id": "skZfb2kl3-N8"
      }
    },
    {
      "cell_type": "markdown",
      "metadata": {
        "id": "QQzSM2MYC4X6"
      },
      "source": [
        "### Outlier Detection"
      ]
    },
    {
      "cell_type": "code",
      "execution_count": null,
      "metadata": {
        "id": "geT5sNxxC4X7"
      },
      "outputs": [],
      "source": [
        "Q1 = data._______(0.25)  # To find the 25th percentile and 75th percentile.\n",
        "Q3 = data._______(0.75)\n",
        "\n",
        "IQR = Q3 - Q1  # Inter Quantile Range (75th perentile - 25th percentile)\n",
        "\n",
        "lower = (\n",
        "    Q1 - 1.5 * IQR\n",
        ")  # Finding lower and upper bounds for all values. All values outside these bounds are outliers\n",
        "upper = Q3 + 1.5 * IQR"
      ]
    },
    {
      "cell_type": "code",
      "execution_count": null,
      "metadata": {
        "id": "BilQz0sMC4X7"
      },
      "outputs": [],
      "source": [
        "(\n",
        "    (data.select_dtypes(include=[\"float64\", \"int64\"]) < lower)\n",
        "    | (data.select_dtypes(include=[\"float64\", \"int64\"]) > upper)\n",
        ").sum() / len(data) * 100"
      ]
    },
    {
      "cell_type": "markdown",
      "metadata": {
        "id": "gmXzCmngC4X7"
      },
      "source": [
        "### Data Preparation for Modeling"
      ]
    },
    {
      "cell_type": "code",
      "execution_count": null,
      "metadata": {
        "id": "1mXJKfifC4X7"
      },
      "outputs": [],
      "source": [
        "# dropping Experience as it is perfectly correlated with Age\n",
        "X = data.drop([\"Personal_Loan\", \"Experience\"], axis=1)\n",
        "Y = data[\"Personal_Loan\"]\n",
        "\n",
        "X = pd.get_dummies(X, columns=[\"ZIPCode\", \"Education\"], drop_first=True)\n",
        "X = X.astype(float)\n",
        "\n",
        "# Splitting data in train and test sets\n",
        "X_train, X_test, y_train, y_test = train_test_split(\n",
        "    X, Y, test_size=0.30, random_state=1\n",
        ")"
      ]
    },
    {
      "cell_type": "code",
      "execution_count": null,
      "metadata": {
        "id": "jgZ6iDQDC4X7"
      },
      "outputs": [],
      "source": [
        "print(\"Shape of Training set : \", X_train.shape)\n",
        "print(\"Shape of test set : \", X_test.shape)\n",
        "print(\"Percentage of classes in training set:\")\n",
        "print(y_train.value_counts(normalize=True))\n",
        "print(\"Percentage of classes in test set:\")\n",
        "print(y_test.value_counts(normalize=True))"
      ]
    },
    {
      "cell_type": "markdown",
      "metadata": {
        "id": "m9fXqCPnC4X7"
      },
      "source": [
        "## Model Building"
      ]
    },
    {
      "cell_type": "markdown",
      "source": [
        "### Model Evaluation Criterion"
      ],
      "metadata": {
        "id": "hPn0vcAH4ch9"
      }
    },
    {
      "cell_type": "markdown",
      "source": [
        "- *mention the model evaluation criterion here with proper reasoning*"
      ],
      "metadata": {
        "id": "rN3hG-kO-4xq"
      }
    },
    {
      "cell_type": "markdown",
      "metadata": {
        "id": "07-LotVsC4YA"
      },
      "source": [
        "First, let's create functions to calculate different metrics and confusion matrix so that we don't have to use the same code repeatedly for each model.\n",
        "\n",
        "* The model_performance_classification_sklearn function will be used to check the model performance of models.\n",
        "* The confusion_matrix_sklearnfunction will be used to plot confusion matrix."
      ]
    },
    {
      "cell_type": "code",
      "execution_count": null,
      "metadata": {
        "id": "RUiJjUivC4YA"
      },
      "outputs": [],
      "source": [
        "# defining a function to compute different metrics to check performance of a classification model built using sklearn\n",
        "def model_performance_classification_sklearn(model, predictors, target):\n",
        "    \"\"\"\n",
        "    Function to compute different metrics to check classification model performance\n",
        "\n",
        "    model: classifier\n",
        "    predictors: independent variables\n",
        "    target: dependent variable\n",
        "    \"\"\"\n",
        "\n",
        "    # predicting using the independent variables\n",
        "    pred = model.predict(predictors)\n",
        "\n",
        "    acc = accuracy_score(target, pred)  # to compute Accuracy\n",
        "    recall = recall_score(target, pred)  # to compute Recall\n",
        "    precision = precision_score(target, pred)  # to compute Precision\n",
        "    f1 = f1_score(target, pred)  # to compute F1-score\n",
        "\n",
        "    # creating a dataframe of metrics\n",
        "    df_perf = pd.DataFrame(\n",
        "        {\"Accuracy\": acc, \"Recall\": recall, \"Precision\": precision, \"F1\": f1,},\n",
        "        index=[0],\n",
        "    )\n",
        "\n",
        "    return df_perf"
      ]
    },
    {
      "cell_type": "code",
      "execution_count": null,
      "metadata": {
        "id": "7gEVQVSJC4YA"
      },
      "outputs": [],
      "source": [
        "def confusion_matrix_sklearn(model, predictors, target):\n",
        "    \"\"\"\n",
        "    To plot the confusion_matrix with percentages\n",
        "\n",
        "    model: classifier\n",
        "    predictors: independent variables\n",
        "    target: dependent variable\n",
        "    \"\"\"\n",
        "    y_pred = model.predict(predictors)\n",
        "    cm = confusion_matrix(target, y_pred)\n",
        "    labels = np.asarray(\n",
        "        [\n",
        "            [\"{0:0.0f}\".format(item) + \"\\n{0:.2%}\".format(item / cm.flatten().sum())]\n",
        "            for item in cm.flatten()\n",
        "        ]\n",
        "    ).reshape(2, 2)\n",
        "\n",
        "    plt.figure(figsize=(6, 4))\n",
        "    sns.heatmap(cm, annot=labels, fmt=\"\")\n",
        "    plt.ylabel(\"True label\")\n",
        "    plt.xlabel(\"Predicted label\")"
      ]
    },
    {
      "cell_type": "markdown",
      "metadata": {
        "id": "MaixHe3dC4YB"
      },
      "source": [
        "### Decision Tree (sklearn default)"
      ]
    },
    {
      "cell_type": "code",
      "execution_count": null,
      "metadata": {
        "id": "QitFaBk-C4YB"
      },
      "outputs": [],
      "source": [
        "model = DecisionTreeClassifier(criterion=\"gini\", random_state=1)\n",
        "model.fit(X_train, y_train)"
      ]
    },
    {
      "cell_type": "markdown",
      "metadata": {
        "id": "rMxU-3QMC4YB"
      },
      "source": [
        "#### Checking model performance on training data"
      ]
    },
    {
      "cell_type": "code",
      "execution_count": null,
      "metadata": {
        "id": "9ZFPDVa0C4YB"
      },
      "outputs": [],
      "source": [
        "confusion_matrix_sklearn(model, X_train, y_train)"
      ]
    },
    {
      "cell_type": "code",
      "execution_count": null,
      "metadata": {
        "id": "UPwxH5k7C4YB"
      },
      "outputs": [],
      "source": [
        "decision_tree_perf_train = model_performance_classification_sklearn(\n",
        "    model, X_train, y_train\n",
        ")\n",
        "decision_tree_perf_train"
      ]
    },
    {
      "cell_type": "markdown",
      "metadata": {
        "id": "7nDW0YQlC4YB"
      },
      "source": [
        "#### Visualizing the Decision Tree"
      ]
    },
    {
      "cell_type": "code",
      "execution_count": null,
      "metadata": {
        "id": "h_9TIzrTC4YB"
      },
      "outputs": [],
      "source": [
        "feature_names = list(X_train.columns)\n",
        "print(feature_names)"
      ]
    },
    {
      "cell_type": "code",
      "execution_count": null,
      "metadata": {
        "id": "NPy3CqXtC4YB"
      },
      "outputs": [],
      "source": [
        "plt.figure(figsize=(20, 30))\n",
        "out = tree.plot_tree(\n",
        "    model,\n",
        "    feature_names=feature_names,\n",
        "    filled=True,\n",
        "    fontsize=9,\n",
        "    node_ids=False,\n",
        "    class_names=None,\n",
        ")\n",
        "# below code will add arrows to the decision tree split if they are missing\n",
        "for o in out:\n",
        "    arrow = o.arrow_patch\n",
        "    if arrow is not None:\n",
        "        arrow.set_edgecolor(\"black\")\n",
        "        arrow.set_linewidth(1)\n",
        "plt.show()"
      ]
    },
    {
      "cell_type": "code",
      "execution_count": null,
      "metadata": {
        "id": "18VKmimLC4YB"
      },
      "outputs": [],
      "source": [
        "# Text report showing the rules of a decision tree -\n",
        "\n",
        "print(tree.export_text(model, feature_names=feature_names, show_weights=True))"
      ]
    },
    {
      "cell_type": "code",
      "execution_count": null,
      "metadata": {
        "id": "6_nnI5ZBC4YC"
      },
      "outputs": [],
      "source": [
        "# importance of features in the tree building ( The importance of a feature is computed as the\n",
        "# (normalized) total reduction of the criterion brought by that feature. It is also known as the Gini importance )\n",
        "\n",
        "print(\n",
        "    pd.DataFrame(\n",
        "        model.feature_importances_, columns=[\"Imp\"], index=X_train.columns\n",
        "    ).sort_values(by=\"Imp\", ascending=False)\n",
        ")"
      ]
    },
    {
      "cell_type": "code",
      "execution_count": null,
      "metadata": {
        "id": "pef6gAISC4YC"
      },
      "outputs": [],
      "source": [
        "importances = model.feature_importances_\n",
        "indices = np.argsort(importances)\n",
        "\n",
        "plt.figure(figsize=(8, 8))\n",
        "plt.title(\"Feature Importances\")\n",
        "plt.barh(range(len(indices)), importances[indices], color=\"violet\", align=\"center\")\n",
        "plt.yticks(range(len(indices)), [feature_names[i] for i in indices])\n",
        "plt.xlabel(\"Relative Importance\")\n",
        "plt.show()"
      ]
    },
    {
      "cell_type": "markdown",
      "metadata": {
        "id": "rvlLx6_zC4YC"
      },
      "source": [
        "#### Checking model performance on test data"
      ]
    },
    {
      "cell_type": "code",
      "execution_count": null,
      "metadata": {
        "id": "YndeKYD8C4YC"
      },
      "outputs": [],
      "source": [
        "confusion_matrix_sklearn(_______) ## Complete the code to create confusion matrix for test data"
      ]
    },
    {
      "cell_type": "code",
      "execution_count": null,
      "metadata": {
        "id": "6iDD7xFTC4YC"
      },
      "outputs": [],
      "source": [
        "decision_tree_perf_test = model_performance_classification_sklearn(_______) ## Complete the code to check performance on test data\n",
        "decision_tree_perf_test"
      ]
    },
    {
      "cell_type": "markdown",
      "metadata": {
        "id": "kpDCgvB6C4YC"
      },
      "source": [
        "## Model Performance Improvement"
      ]
    },
    {
      "cell_type": "markdown",
      "metadata": {
        "id": "CuyQJdFRC4YC"
      },
      "source": [
        "#### Pre-pruning"
      ]
    },
    {
      "cell_type": "markdown",
      "source": [
        "**Note**: The parameters provided below are a sample set. You can feel free to update the same and try out other combinations."
      ],
      "metadata": {
        "id": "SOalSUAW_oPR"
      }
    },
    {
      "cell_type": "code",
      "source": [
        "# Define the parameters of the tree to iterate over\n",
        "max_depth_values = np.arange(2, 7, 2)\n",
        "max_leaf_nodes_values = [50, 75, 150, 250]\n",
        "min_samples_split_values = [10, 30, 50, 70]\n",
        "\n",
        "# Initialize variables to store the best model and its performance\n",
        "best_estimator = None\n",
        "best_score_diff = float('inf')\n",
        "best_test_score = 0.0\n",
        "\n",
        "# Iterate over all combinations of the specified parameter values\n",
        "for max_depth in max_depth_values:\n",
        "    for max_leaf_nodes in max_leaf_nodes_values:\n",
        "        for min_samples_split in min_samples_split_values:\n",
        "\n",
        "            # Initialize the tree with the current set of parameters\n",
        "            estimator = DecisionTreeClassifier(\n",
        "                max_depth=max_depth,\n",
        "                max_leaf_nodes=max_leaf_nodes,\n",
        "                min_samples_split=min_samples_split,\n",
        "                lass_weight='balanced',\n",
        "                random_state=42\n",
        "            )\n",
        "\n",
        "            # Fit the model to the training data\n",
        "            estimator.fit(X_train, y_train)\n",
        "\n",
        "            # Make predictions on the training and test sets\n",
        "            y_train_pred = estimator.predict(X_train)\n",
        "            y_test_pred = estimator.predict(X_test)\n",
        "\n",
        "            # Calculate recall scores for training and test sets\n",
        "            train_recall_score = recall_score(y_train, y_train_pred)\n",
        "            test_recall_score = recall_score(y_test, y_test_pred)\n",
        "\n",
        "            # Calculate the absolute difference between training and test recall scores\n",
        "            score_diff = abs(train_recall_score - test_recall_score)\n",
        "\n",
        "            # Update the best estimator and best score if the current one has a smaller score difference\n",
        "            if (score_diff < best_score_diff) & (test_recall_score > best_test_score):\n",
        "                best_score_diff = score_diff\n",
        "                best_test_score = test_recall_score\n",
        "                best_estimator = estimator\n",
        "\n",
        "# Print the best parameters\n",
        "print(\"Best parameters found:\")\n",
        "print(f\"Max depth: {best_estimator.max_depth}\")\n",
        "print(f\"Max leaf nodes: {best_estimator.max_leaf_nodes}\")\n",
        "print(f\"Min samples split: {best_estimator.min_samples_split}\")\n",
        "print(f\"Best test recall score: {best_test_score}\")"
      ],
      "metadata": {
        "id": "x4FiURX1Sry4"
      },
      "execution_count": null,
      "outputs": []
    },
    {
      "cell_type": "code",
      "source": [
        "# Fit the best algorithm to the data.\n",
        "estimator = best_estimator\n",
        "estimator.fit(_______) ## Complete the code to fit model on train data"
      ],
      "metadata": {
        "id": "735svJsQTXR4"
      },
      "execution_count": null,
      "outputs": []
    },
    {
      "cell_type": "markdown",
      "metadata": {
        "id": "Om3h1naUC4YC"
      },
      "source": [
        "**Checking performance on training data**"
      ]
    },
    {
      "cell_type": "code",
      "execution_count": null,
      "metadata": {
        "id": "FhaRaXFzC4YC"
      },
      "outputs": [],
      "source": [
        "confusion_matrix_sklearn(_______) ## Complete the code to create confusion matrix for train data"
      ]
    },
    {
      "cell_type": "code",
      "execution_count": null,
      "metadata": {
        "id": "f2Y1j1hIC4YC"
      },
      "outputs": [],
      "source": [
        "decision_tree_tune_perf_train = model_performance_classification_sklearn(_______) ## Complete the code to check performance on train data\n",
        "decision_tree_tune_perf_train"
      ]
    },
    {
      "cell_type": "markdown",
      "metadata": {
        "id": "XflbxvDqC4YD"
      },
      "source": [
        "**Visualizing the Decision Tree**"
      ]
    },
    {
      "cell_type": "code",
      "execution_count": null,
      "metadata": {
        "id": "2txWI93YC4YD"
      },
      "outputs": [],
      "source": [
        "plt.figure(figsize=(10, 10))\n",
        "out = tree.plot_tree(\n",
        "    estimator,\n",
        "    feature_names=feature_names,\n",
        "    filled=True,\n",
        "    fontsize=9,\n",
        "    node_ids=False,\n",
        "    class_names=None,\n",
        ")\n",
        "# below code will add arrows to the decision tree split if they are missing\n",
        "for o in out:\n",
        "    arrow = o.arrow_patch\n",
        "    if arrow is not None:\n",
        "        arrow.set_edgecolor(\"black\")\n",
        "        arrow.set_linewidth(1)\n",
        "plt.show()"
      ]
    },
    {
      "cell_type": "code",
      "execution_count": null,
      "metadata": {
        "id": "DC34C9cEC4YD"
      },
      "outputs": [],
      "source": [
        "# Text report showing the rules of a decision tree -\n",
        "\n",
        "print(tree.export_text(estimator, feature_names=feature_names, show_weights=True))"
      ]
    },
    {
      "cell_type": "code",
      "execution_count": null,
      "metadata": {
        "id": "ew9ASiG3C4YD"
      },
      "outputs": [],
      "source": [
        "# importance of features in the tree building ( The importance of a feature is computed as the\n",
        "# (normalized) total reduction of the criterion brought by that feature. It is also known as the Gini importance )\n",
        "\n",
        "print(\n",
        "    pd.DataFrame(\n",
        "        estimator.feature_importances_, columns=[\"Imp\"], index=X_train.columns\n",
        "    ).sort_values(by=\"Imp\", ascending=False)\n",
        ")"
      ]
    },
    {
      "cell_type": "code",
      "execution_count": null,
      "metadata": {
        "id": "J-HM6fALC4YD"
      },
      "outputs": [],
      "source": [
        "importances = estimator.feature_importances_\n",
        "indices = np.argsort(importances)\n",
        "\n",
        "plt.figure(figsize=(8, 8))\n",
        "plt.title(\"Feature Importances\")\n",
        "plt.barh(range(len(indices)), importances[indices], color=\"violet\", align=\"center\")\n",
        "plt.yticks(range(len(indices)), [feature_names[i] for i in indices])\n",
        "plt.xlabel(\"Relative Importance\")\n",
        "plt.show()"
      ]
    },
    {
      "cell_type": "markdown",
      "metadata": {
        "id": "qTmqOIpbC4YE"
      },
      "source": [
        "**Checking performance on test data**"
      ]
    },
    {
      "cell_type": "code",
      "execution_count": null,
      "metadata": {
        "id": "SIbpRGx0C4YE"
      },
      "outputs": [],
      "source": [
        "confusion_matrix_sklearn(___________)  # Complete the code to get the confusion matrix on test data"
      ]
    },
    {
      "cell_type": "code",
      "execution_count": null,
      "metadata": {
        "id": "9pBJqKrBC4YE"
      },
      "outputs": [],
      "source": [
        "decision_tree_tune_perf_test = model_performance_classification_sklearn(___________) ## Complete the code to check performance on test data\n",
        "decision_tree_tune_perf_test"
      ]
    },
    {
      "cell_type": "markdown",
      "metadata": {
        "id": "lHXAxbhtC4YE"
      },
      "source": [
        "#### Post-pruning"
      ]
    },
    {
      "cell_type": "code",
      "execution_count": null,
      "metadata": {
        "id": "1HsNI2_DC4YE"
      },
      "outputs": [],
      "source": [
        "clf = DecisionTreeClassifier(random_state=1)\n",
        "path = clf.cost_complexity_pruning_path(X_train, y_train)\n",
        "ccp_alphas, impurities = path.ccp_alphas, path.impurities"
      ]
    },
    {
      "cell_type": "code",
      "execution_count": null,
      "metadata": {
        "id": "bgA9le7wC4YE"
      },
      "outputs": [],
      "source": [
        "pd.DataFrame(path)"
      ]
    },
    {
      "cell_type": "code",
      "execution_count": null,
      "metadata": {
        "id": "X18_qAOtC4YE"
      },
      "outputs": [],
      "source": [
        "fig, ax = plt.subplots(figsize=(10, 5))\n",
        "ax.plot(ccp_alphas[:-1], impurities[:-1], marker=\"o\", drawstyle=\"steps-post\")\n",
        "ax.set_xlabel(\"effective alpha\")\n",
        "ax.set_ylabel(\"total impurity of leaves\")\n",
        "ax.set_title(\"Total Impurity vs effective alpha for training set\")\n",
        "plt.show()"
      ]
    },
    {
      "cell_type": "markdown",
      "metadata": {
        "id": "oF-sx5exC4YE"
      },
      "source": [
        "Next, we train a decision tree using effective alphas. The last value\n",
        "in ``ccp_alphas`` is the alpha value that prunes the whole tree,\n",
        "leaving the tree, ``clfs[-1]``, with one node."
      ]
    },
    {
      "cell_type": "code",
      "execution_count": null,
      "metadata": {
        "id": "nlFy--yRC4YE"
      },
      "outputs": [],
      "source": [
        "clfs = []\n",
        "for ccp_alpha in ccp_alphas:\n",
        "    clf = DecisionTreeClassifier(random_state=1, ccp_alpha=ccp_alpha)\n",
        "    clf.fit(__________)     ## Complete the code to fit decision tree on training data\n",
        "    clfs.append(clf)\n",
        "print(\n",
        "    \"Number of nodes in the last tree is: {} with ccp_alpha: {}\".format(\n",
        "        clfs[-1].tree_.node_count, ccp_alphas[-1]\n",
        "    )\n",
        ")"
      ]
    },
    {
      "cell_type": "code",
      "execution_count": null,
      "metadata": {
        "id": "iHgwicEeC4YF"
      },
      "outputs": [],
      "source": [
        "clfs = clfs[:-1]\n",
        "ccp_alphas = ccp_alphas[:-1]\n",
        "\n",
        "node_counts = [clf.tree_.node_count for clf in clfs]\n",
        "depth = [clf.tree_.max_depth for clf in clfs]\n",
        "fig, ax = plt.subplots(2, 1, figsize=(10, 7))\n",
        "ax[0].plot(ccp_alphas, node_counts, marker=\"o\", drawstyle=\"steps-post\")\n",
        "ax[0].set_xlabel(\"alpha\")\n",
        "ax[0].set_ylabel(\"number of nodes\")\n",
        "ax[0].set_title(\"Number of nodes vs alpha\")\n",
        "ax[1].plot(ccp_alphas, depth, marker=\"o\", drawstyle=\"steps-post\")\n",
        "ax[1].set_xlabel(\"alpha\")\n",
        "ax[1].set_ylabel(\"depth of tree\")\n",
        "ax[1].set_title(\"Depth vs alpha\")\n",
        "fig.tight_layout()"
      ]
    },
    {
      "cell_type": "markdown",
      "metadata": {
        "id": "bCeaA41iC4YF"
      },
      "source": [
        "**Recall vs alpha for training and testing sets**"
      ]
    },
    {
      "cell_type": "code",
      "execution_count": null,
      "metadata": {
        "id": "4CYXnB7AC4YF"
      },
      "outputs": [],
      "source": [
        "recall_train = []\n",
        "for clf in clfs:\n",
        "    pred_train = clf.predict(X_train)\n",
        "    values_train = recall_score(y_train, pred_train)\n",
        "    recall_train.append(values_train)\n",
        "\n",
        "recall_test = []\n",
        "for clf in clfs:\n",
        "    pred_test = clf.predict(X_test)\n",
        "    values_test = recall_score(y_test, pred_test)\n",
        "    recall_test.append(values_test)"
      ]
    },
    {
      "cell_type": "code",
      "execution_count": null,
      "metadata": {
        "id": "35pcSV4qC4YF"
      },
      "outputs": [],
      "source": [
        "fig, ax = plt.subplots(figsize=(15, 5))\n",
        "ax.set_xlabel(\"alpha\")\n",
        "ax.set_ylabel(\"Recall\")\n",
        "ax.set_title(\"Recall vs alpha for training and testing sets\")\n",
        "ax.plot(ccp_alphas, recall_train, marker=\"o\", label=\"train\", drawstyle=\"steps-post\")\n",
        "ax.plot(ccp_alphas, recall_test, marker=\"o\", label=\"test\", drawstyle=\"steps-post\")\n",
        "ax.legend()\n",
        "plt.show()"
      ]
    },
    {
      "cell_type": "code",
      "execution_count": null,
      "metadata": {
        "id": "7GTMKf4oC4YF"
      },
      "outputs": [],
      "source": [
        "index_best_model = np.argmax(recall_test)\n",
        "best_model = clfs[index_best_model]\n",
        "print(best_model)"
      ]
    },
    {
      "cell_type": "code",
      "source": [
        "estimator_2 = DecisionTreeClassifier(\n",
        "    ccp_alpha=__________, class_weight={0: 0.15, 1: 0.85}, random_state=1         ## Complete the code by adding the correct ccp_alpha value\n",
        ")\n",
        "estimator_2.fit(X_train, y_train)"
      ],
      "metadata": {
        "id": "lqVMIBGkJYvT"
      },
      "execution_count": null,
      "outputs": []
    },
    {
      "cell_type": "markdown",
      "source": [
        "**Checking performance on training data**"
      ],
      "metadata": {
        "id": "teC2sBIqJ-aD"
      }
    },
    {
      "cell_type": "code",
      "source": [
        "confusion_matrix_sklearn(___________________) ## Complete the code to create confusion matrix for train data"
      ],
      "metadata": {
        "id": "PnyDmQfdJYqT"
      },
      "execution_count": null,
      "outputs": []
    },
    {
      "cell_type": "code",
      "source": [
        "decision_tree_tune_post_train = model_performance_classification_sklearn(______________) ## Complete the code to check performance on train data\n",
        "decision_tree_tune_post_train"
      ],
      "metadata": {
        "id": "TLCU4D4pJYmS"
      },
      "execution_count": null,
      "outputs": []
    },
    {
      "cell_type": "markdown",
      "source": [
        "**Visualizing the Decision Tree**"
      ],
      "metadata": {
        "id": "8E29ajQJKIIJ"
      }
    },
    {
      "cell_type": "code",
      "source": [
        "plt.figure(figsize=(10, 10))\n",
        "out = tree.plot_tree(\n",
        "    estimator_2,\n",
        "    feature_names=feature_names,\n",
        "    filled=True,\n",
        "    fontsize=9,\n",
        "    node_ids=False,\n",
        "    class_names=None,\n",
        ")\n",
        "# below code will add arrows to the decision tree split if they are missing\n",
        "for o in out:\n",
        "    arrow = o.arrow_patch\n",
        "    if arrow is not None:\n",
        "        arrow.set_edgecolor(\"black\")\n",
        "        arrow.set_linewidth(1)\n",
        "plt.show()"
      ],
      "metadata": {
        "id": "zV5WX9U-JYh1"
      },
      "execution_count": null,
      "outputs": []
    },
    {
      "cell_type": "code",
      "source": [
        "# Text report showing the rules of a decision tree -\n",
        "\n",
        "print(tree.export_text(estimator_2, feature_names=feature_names, show_weights=True))"
      ],
      "metadata": {
        "id": "iKXV-lgTJYdP"
      },
      "execution_count": null,
      "outputs": []
    },
    {
      "cell_type": "code",
      "source": [
        "# importance of features in the tree building ( The importance of a feature is computed as the\n",
        "# (normalized) total reduction of the criterion brought by that feature. It is also known as the Gini importance )\n",
        "\n",
        "print(\n",
        "    pd.DataFrame(\n",
        "        estimator_2.feature_importances_, columns=[\"Imp\"], index=X_train.columns\n",
        "    ).sort_values(by=\"Imp\", ascending=False)\n",
        ")"
      ],
      "metadata": {
        "id": "RqT520tJJW8Z"
      },
      "execution_count": null,
      "outputs": []
    },
    {
      "cell_type": "code",
      "source": [
        "importances = estimator_2.feature_importances_\n",
        "indices = np.argsort(importances)\n",
        "\n",
        "plt.figure(figsize=(8, 8))\n",
        "plt.title(\"Feature Importances\")\n",
        "plt.barh(range(len(indices)), importances[indices], color=\"violet\", align=\"center\")\n",
        "plt.yticks(range(len(indices)), [feature_names[i] for i in indices])\n",
        "plt.xlabel(\"Relative Importance\")\n",
        "plt.show()"
      ],
      "metadata": {
        "id": "ns3WjdzTMMqE"
      },
      "execution_count": null,
      "outputs": []
    },
    {
      "cell_type": "markdown",
      "source": [
        "**Checking performance on test data**"
      ],
      "metadata": {
        "id": "k51seI8KMQ_0"
      }
    },
    {
      "cell_type": "code",
      "source": [
        "confusion_matrix_sklearn(___________)  # Complete the code to get the confusion matrix on test data"
      ],
      "metadata": {
        "id": "GCfZQpWqMMk0"
      },
      "execution_count": null,
      "outputs": []
    },
    {
      "cell_type": "code",
      "source": [
        "decision_tree_tune_post_test = model_performance_classification_sklearn(_____________) ## Complete the code to get the model performance on test data\n",
        "decision_tree_tune_post_test"
      ],
      "metadata": {
        "id": "G7ID5wFtMWTV"
      },
      "execution_count": null,
      "outputs": []
    },
    {
      "cell_type": "markdown",
      "metadata": {
        "id": "Zv_bmR4AC4YG"
      },
      "source": [
        "## Model Performance Comparison and Final Model Selection"
      ]
    },
    {
      "cell_type": "code",
      "execution_count": null,
      "metadata": {
        "id": "2DfMXo0DC4YG"
      },
      "outputs": [],
      "source": [
        "# training performance comparison\n",
        "\n",
        "models_train_comp_df = pd.concat(\n",
        "    [decision_tree_perf_train.T, decision_tree_tune_perf_train.T, decision_tree_tune_post_train.T], axis=1,\n",
        ")\n",
        "models_train_comp_df.columns = [\"Decision Tree (sklearn default)\", \"Decision Tree (Pre-Pruning)\", \"Decision Tree (Post-Pruning)\"]\n",
        "print(\"Training performance comparison:\")\n",
        "models_train_comp_df"
      ]
    },
    {
      "cell_type": "code",
      "execution_count": null,
      "metadata": {
        "id": "UB4yD9NBC4YG"
      },
      "outputs": [],
      "source": [
        "# testing performance comparison\n",
        "\n",
        "models_test_comp_df = pd.concat(\n",
        "    [decision_tree_perf_test.T, decision_tree_tune_perf_test.T, decision_tree_tune_post_test.T], axis=1,\n",
        ")\n",
        "models_test_comp_df.columns = [\"Decision Tree (sklearn default)\", \"Decision Tree (Pre-Pruning)\", \"Decision Tree (Post-Pruning)\"]\n",
        "print(\"Test set performance comparison:\")\n",
        "models_test_comp_df"
      ]
    },
    {
      "cell_type": "markdown",
      "source": [
        "## Actionable Insights and Business Recommendations"
      ],
      "metadata": {
        "id": "Vlmp6asz6xoh"
      }
    },
    {
      "cell_type": "markdown",
      "source": [
        "**What recommedations would you suggest to the bank?**"
      ],
      "metadata": {
        "id": "LAIsnkyTYmx8"
      }
    },
    {
      "cell_type": "markdown",
      "source": [
        "___"
      ],
      "metadata": {
        "id": "meolQkWtYni4"
      }
    }
  ],
  "metadata": {
    "kernelspec": {
      "display_name": "Python 3",
      "language": "python",
      "name": "python3"
    },
    "language_info": {
      "codemirror_mode": {
        "name": "ipython",
        "version": 3
      },
      "file_extension": ".py",
      "mimetype": "text/x-python",
      "name": "python",
      "nbconvert_exporter": "python",
      "pygments_lexer": "ipython3",
      "version": "3.8.8"
    },
    "colab": {
      "provenance": [],
      "collapsed_sections": [
        "oiAwWZfeC4Xw",
        "IRAvu4bNl-fU",
        "qW6gqvE1C4Xy",
        "yGpsy8MaC4X0",
        "4o_swYenC4X1",
        "Mbr6OdWEC4X1",
        "dEuSu6e4hU2e",
        "mwAu-vEwhU2m",
        "36aCBpXp2ikK",
        "7KMCPrWrC4X2",
        "Vsyw2VXjC4X3",
        "_uzwbCno3DN2",
        "iJ5ll9Cg3Sog",
        "kUJ_B5KxhU3D",
        "4vJzUjS9_-Jt",
        "QjuGWeOmEGoS",
        "zzdrcVHaEY0t",
        "24eVdJLlEkEU",
        "DG4dgxL_ExDR",
        "a0GLlhKCE5bg",
        "JzTJoVRME-fU",
        "5v-RI3_hFHKR",
        "iu38TAwRFUb5",
        "itZOMUhcFcao",
        "BdeJ6JQFFjW7",
        "PdzxuDEaFmbu",
        "ACJO6FE1F5Rk",
        "6ocQdtn6F8Uc",
        "GOXF6qiVZ1jD",
        "IOp9K2wEG5p0",
        "soQXBsZNG8Hc",
        "BgOQfs9_HBej",
        "WyLpV-BRHPkR",
        "OGv86aejHTG0",
        "a9nCniQgHZUu",
        "0YcmISkyHc_a",
        "CO30h257HiLq",
        "wu6IjYeVHyEj",
        "Zl2-uHxAH_CB",
        "kIdGE5OZIGuM",
        "skZfb2kl3-N8",
        "QQzSM2MYC4X6",
        "gmXzCmngC4X7",
        "m9fXqCPnC4X7",
        "hPn0vcAH4ch9",
        "MaixHe3dC4YB",
        "rMxU-3QMC4YB",
        "7nDW0YQlC4YB",
        "rvlLx6_zC4YC",
        "kpDCgvB6C4YC",
        "CuyQJdFRC4YC",
        "lHXAxbhtC4YE",
        "Zv_bmR4AC4YG",
        "Vlmp6asz6xoh"
      ]
    }
  },
  "nbformat": 4,
  "nbformat_minor": 0
}